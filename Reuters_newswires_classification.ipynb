{
 "cells": [
  {
   "cell_type": "markdown",
   "metadata": {},
   "source": [
    "# Reuters Newswire: Multi-class Classification"
   ]
  },
  {
   "cell_type": "code",
   "execution_count": 1,
   "metadata": {},
   "outputs": [
    {
     "name": "stderr",
     "output_type": "stream",
     "text": [
      "Using TensorFlow backend.\n"
     ]
    }
   ],
   "source": [
    "import pandas as pd\n",
    "import numpy as np\n",
    "from matplotlib import pyplot as plt\n",
    "\n",
    "from keras.datasets import reuters\n",
    "from keras import models, layers"
   ]
  },
  {
   "cell_type": "markdown",
   "metadata": {},
   "source": [
    "# 1. Data"
   ]
  },
  {
   "cell_type": "code",
   "execution_count": 2,
   "metadata": {},
   "outputs": [],
   "source": [
    "(train_data, train_labels), (test_data, test_labels) = reuters.load_data(num_words=10000)"
   ]
  },
  {
   "cell_type": "markdown",
   "metadata": {},
   "source": [
    "We can check the size of the training and test sets."
   ]
  },
  {
   "cell_type": "code",
   "execution_count": 3,
   "metadata": {},
   "outputs": [
    {
     "name": "stdout",
     "output_type": "stream",
     "text": [
      "Training set size: 8982\n",
      "Test set size: 2246\n"
     ]
    }
   ],
   "source": [
    "print(\"Training set size: %s\" %len(train_data))\n",
    "print(\"Test set size: %s\" %len(test_data))"
   ]
  },
  {
   "cell_type": "markdown",
   "metadata": {},
   "source": [
    "As with the IDMB reviews, each sample is a list of word indices that we can decode."
   ]
  },
  {
   "cell_type": "code",
   "execution_count": 4,
   "metadata": {},
   "outputs": [
    {
     "data": {
      "text/plain": [
       "array([list([1, 245, 273, 207, 156, 53, 74, 160, 26, 14, 46, 296, 26, 39, 74, 2979, 3554, 14, 46, 4689, 4329, 86, 61, 3499, 4795, 14, 61, 451, 4329, 17, 12]),\n",
       "       list([1, 56, 141, 5618, 1607, 149, 8, 16, 33, 223, 231, 336, 7, 37, 38, 459, 1017, 97, 916, 1077, 22, 1271, 19, 89, 16, 8, 4, 455, 33, 45, 30, 2265, 9376, 6, 255, 231, 1025, 4, 49, 8, 43, 10, 447, 5, 329, 1118, 307, 5, 25, 280, 189, 55, 2129, 7, 4, 214, 212, 17, 12])],\n",
       "      dtype=object)"
      ]
     },
     "execution_count": 4,
     "metadata": {},
     "output_type": "execute_result"
    }
   ],
   "source": [
    "train_data[10:12]"
   ]
  },
  {
   "cell_type": "code",
   "execution_count": 5,
   "metadata": {},
   "outputs": [
    {
     "data": {
      "text/plain": [
       "'??? lt international thomson organisation ltd said it will report financial results in u s funds rather than sterling beginning from jan 1 1987 it said the change will not be applied retroactively to prior financial periods the company said as a result of recent investments most of its assets now are located in the united states reuter 3'"
      ]
     },
     "execution_count": 5,
     "metadata": {},
     "output_type": "execute_result"
    }
   ],
   "source": [
    "word_index = reuters.get_word_index()\n",
    "reverse_word_index = dict([(value, key) for (key, value) in word_index.items()])\n",
    "# note indices are offset by 3 as first 3 are reserved for padding, start of sequence and unknown\n",
    "# if word is not in index, then show '???'\n",
    "decoded_newswire = ' '.join([reverse_word_index.get(i - 3, '???') for i in train_data[11]])\n",
    "decoded_newswire"
   ]
  },
  {
   "cell_type": "markdown",
   "metadata": {},
   "source": [
    "We can also look at the relative occurrence of the various topics."
   ]
  },
  {
   "cell_type": "code",
   "execution_count": 6,
   "metadata": {},
   "outputs": [
    {
     "data": {
      "text/plain": [
       "array([[   0,   55],\n",
       "       [   1,  432],\n",
       "       [   2,   74],\n",
       "       [   3, 3159],\n",
       "       [   4, 1949],\n",
       "       [   5,   17],\n",
       "       [   6,   48],\n",
       "       [   7,   16],\n",
       "       [   8,  139],\n",
       "       [   9,  101],\n",
       "       [  10,  124],\n",
       "       [  11,  390],\n",
       "       [  12,   49],\n",
       "       [  13,  172],\n",
       "       [  14,   26],\n",
       "       [  15,   20],\n",
       "       [  16,  444],\n",
       "       [  17,   39],\n",
       "       [  18,   66],\n",
       "       [  19,  549],\n",
       "       [  20,  269],\n",
       "       [  21,  100],\n",
       "       [  22,   15],\n",
       "       [  23,   41],\n",
       "       [  24,   62],\n",
       "       [  25,   92],\n",
       "       [  26,   24],\n",
       "       [  27,   15],\n",
       "       [  28,   48],\n",
       "       [  29,   19],\n",
       "       [  30,   45],\n",
       "       [  31,   39],\n",
       "       [  32,   32],\n",
       "       [  33,   11],\n",
       "       [  34,   50],\n",
       "       [  35,   10],\n",
       "       [  36,   49],\n",
       "       [  37,   19],\n",
       "       [  38,   19],\n",
       "       [  39,   24],\n",
       "       [  40,   36],\n",
       "       [  41,   30],\n",
       "       [  42,   13],\n",
       "       [  43,   21],\n",
       "       [  44,   12],\n",
       "       [  45,   18]])"
      ]
     },
     "execution_count": 6,
     "metadata": {},
     "output_type": "execute_result"
    }
   ],
   "source": [
    "y = np.bincount(train_labels)\n",
    "ii = np.nonzero(y)[0]\n",
    "np.vstack((ii,y[ii])).T"
   ]
  },
  {
   "cell_type": "markdown",
   "metadata": {},
   "source": [
    "There are 46 topics with topic 35 being the rarest with only 10 occurrences.\n",
    "\n",
    "## 1.1. Data Manipulation\n",
    "Given that each list has differing lengths, we can prepare the data in two ways:\n",
    "    - pad lists so they are the same length\n",
    "    - one-hot encode each sequence into a 10,000-D vector\n",
    "We choose the latter approach."
   ]
  },
  {
   "cell_type": "code",
   "execution_count": 7,
   "metadata": {},
   "outputs": [],
   "source": [
    "def vectorize_sequences(sequences, dimension=10000):\n",
    "    results = np.zeros((len(sequences), dimension))\n",
    "    for i, sequence in enumerate(sequences):\n",
    "        results[i, sequence] = 1\n",
    "    return results\n",
    "\n",
    "x_train = vectorize_sequences(train_data)\n",
    "x_test = vectorize_sequences(test_data)"
   ]
  },
  {
   "cell_type": "markdown",
   "metadata": {},
   "source": [
    "Similarly, to vectorize the labels we cam:\n",
    "- cast the label as an integer\n",
    "- one-hot encode each labels into a 46-D vector"
   ]
  },
  {
   "cell_type": "code",
   "execution_count": 8,
   "metadata": {},
   "outputs": [],
   "source": [
    "def to_one_hot(labels, dimension=46):\n",
    "    results = np.zeros((len(labels), dimension))\n",
    "    for i, label in enumerate(labels):\n",
    "        results[i, label] = 1\n",
    "    return results\n",
    "\n",
    "one_hot_train_labels = to_one_hot(train_labels)\n",
    "one_hot_test_labels = to_one_hot(test_labels)\n",
    "\n",
    "# Alternatively, we could use keras to do this\n",
    "from keras.utils.np_utils import to_categorical\n",
    "one_hot_train_labels = to_categorical(train_labels)\n",
    "one_hot_test_labels = to_categorical(test_labels)"
   ]
  },
  {
   "cell_type": "markdown",
   "metadata": {},
   "source": [
    "# 2. Defining Network Architecture\n",
    "As we have a large number of output classes (i.e. 46), we need a relatively large number of hidden units in each layer. This ensures that we don't have an information bottleneck. We define a densely-connected network with the final layer having a softmax output. This ensures the network outputs a probability distribution over the 46 classes."
   ]
  },
  {
   "cell_type": "code",
   "execution_count": 9,
   "metadata": {},
   "outputs": [],
   "source": [
    "model = models.Sequential()\n",
    "model.add(layers.Dense(64, activation='relu', input_shape=(10000,)))\n",
    "model.add(layers.Dense(64, activation='relu'))\n",
    "model.add(layers.Dense(46, activation='softmax'))"
   ]
  },
  {
   "cell_type": "markdown",
   "metadata": {},
   "source": [
    "We choose to minimize categorical crossentropy (i.e. minimize distance between ground-truth probability distributions of the labels and the probability distribution predicted by the neural network)."
   ]
  },
  {
   "cell_type": "code",
   "execution_count": 10,
   "metadata": {},
   "outputs": [],
   "source": [
    "model.compile(optimizer='rmsprop', loss='categorical_crossentropy', metrics=['accuracy'])"
   ]
  },
  {
   "cell_type": "markdown",
   "metadata": {},
   "source": [
    "# 3. Training the model\n",
    "We set aside 1,000 of the 8,982 training examples for validation."
   ]
  },
  {
   "cell_type": "code",
   "execution_count": 11,
   "metadata": {},
   "outputs": [],
   "source": [
    "x_val = x_train[:1000]\n",
    "partial_x_train = x_train[1000:]\n",
    "\n",
    "y_val = one_hot_train_labels[:1000]\n",
    "partial_y_train = one_hot_train_labels[1000:]"
   ]
  },
  {
   "cell_type": "markdown",
   "metadata": {},
   "source": [
    "We can now train the model."
   ]
  },
  {
   "cell_type": "code",
   "execution_count": 12,
   "metadata": {},
   "outputs": [
    {
     "name": "stdout",
     "output_type": "stream",
     "text": [
      "Train on 7982 samples, validate on 1000 samples\n",
      "Epoch 1/20\n",
      "7982/7982 [==============================] - 1s 101us/step - loss: 2.6690 - accuracy: 0.5160 - val_loss: 1.7068 - val_accuracy: 0.6310\n",
      "Epoch 2/20\n",
      "7982/7982 [==============================] - 1s 85us/step - loss: 1.3890 - accuracy: 0.7121 - val_loss: 1.2777 - val_accuracy: 0.7200\n",
      "Epoch 3/20\n",
      "7982/7982 [==============================] - 1s 86us/step - loss: 1.0211 - accuracy: 0.7844 - val_loss: 1.1077 - val_accuracy: 0.7610\n",
      "Epoch 4/20\n",
      "7982/7982 [==============================] - 1s 80us/step - loss: 0.7973 - accuracy: 0.8296 - val_loss: 1.0046 - val_accuracy: 0.7770\n",
      "Epoch 5/20\n",
      "7982/7982 [==============================] - 1s 79us/step - loss: 0.6375 - accuracy: 0.8624 - val_loss: 0.9583 - val_accuracy: 0.7950\n",
      "Epoch 6/20\n",
      "7982/7982 [==============================] - 1s 81us/step - loss: 0.5096 - accuracy: 0.8916 - val_loss: 0.9225 - val_accuracy: 0.8080\n",
      "Epoch 7/20\n",
      "7982/7982 [==============================] - 1s 83us/step - loss: 0.4147 - accuracy: 0.9112 - val_loss: 0.8885 - val_accuracy: 0.8150\n",
      "Epoch 8/20\n",
      "7982/7982 [==============================] - 1s 87us/step - loss: 0.3366 - accuracy: 0.9256 - val_loss: 0.8818 - val_accuracy: 0.8090\n",
      "Epoch 9/20\n",
      "7982/7982 [==============================] - 1s 78us/step - loss: 0.2820 - accuracy: 0.9379 - val_loss: 0.8957 - val_accuracy: 0.8090\n",
      "Epoch 10/20\n",
      "7982/7982 [==============================] - 1s 77us/step - loss: 0.2377 - accuracy: 0.9454 - val_loss: 0.9294 - val_accuracy: 0.8010\n",
      "Epoch 11/20\n",
      "7982/7982 [==============================] - 1s 83us/step - loss: 0.2022 - accuracy: 0.9513 - val_loss: 0.9310 - val_accuracy: 0.8110\n",
      "Epoch 12/20\n",
      "7982/7982 [==============================] - 1s 81us/step - loss: 0.1811 - accuracy: 0.9513 - val_loss: 0.9333 - val_accuracy: 0.8110\n",
      "Epoch 13/20\n",
      "7982/7982 [==============================] - 1s 80us/step - loss: 0.1605 - accuracy: 0.9544 - val_loss: 0.9641 - val_accuracy: 0.8030\n",
      "Epoch 14/20\n",
      "7982/7982 [==============================] - 1s 76us/step - loss: 0.1521 - accuracy: 0.9546 - val_loss: 1.0274 - val_accuracy: 0.7940\n",
      "Epoch 15/20\n",
      "7982/7982 [==============================] - 1s 82us/step - loss: 0.1386 - accuracy: 0.9539 - val_loss: 1.0138 - val_accuracy: 0.8080\n",
      "Epoch 16/20\n",
      "7982/7982 [==============================] - 1s 79us/step - loss: 0.1316 - accuracy: 0.9553 - val_loss: 1.0152 - val_accuracy: 0.8040\n",
      "Epoch 17/20\n",
      "7982/7982 [==============================] - 1s 87us/step - loss: 0.1257 - accuracy: 0.9550 - val_loss: 1.0100 - val_accuracy: 0.8110\n",
      "Epoch 18/20\n",
      "7982/7982 [==============================] - 1s 85us/step - loss: 0.1167 - accuracy: 0.9569 - val_loss: 1.0096 - val_accuracy: 0.8010\n",
      "Epoch 19/20\n",
      "7982/7982 [==============================] - 1s 78us/step - loss: 0.1130 - accuracy: 0.9580 - val_loss: 1.0409 - val_accuracy: 0.8050\n",
      "Epoch 20/20\n",
      "7982/7982 [==============================] - 1s 79us/step - loss: 0.1108 - accuracy: 0.9595 - val_loss: 1.0927 - val_accuracy: 0.8030\n"
     ]
    }
   ],
   "source": [
    "history = model.fit(partial_x_train, partial_y_train, epochs=20, batch_size=512, \n",
    "                    validation_data=(x_val, y_val))"
   ]
  },
  {
   "cell_type": "markdown",
   "metadata": {},
   "source": [
    "We can monitor how the accuracy and the categorical cross-entropy vary with epochs over both the training and the validation sets."
   ]
  },
  {
   "cell_type": "code",
   "execution_count": 13,
   "metadata": {},
   "outputs": [
    {
     "data": {
      "text/plain": [
       "<matplotlib.legend.Legend at 0x7fe338013150>"
      ]
     },
     "execution_count": 13,
     "metadata": {},
     "output_type": "execute_result"
    },
    {
     "data": {
      "image/png": "[encoded data removed]",
      "text/plain": [
       "<Figure size 432x288 with 1 Axes>"
      ]
     },
     "metadata": {
      "needs_background": "light"
     },
     "output_type": "display_data"
    }
   ],
   "source": [
    "loss = history.history['loss']\n",
    "val_loss = history.history['val_loss']\n",
    "\n",
    "epochs = range(1, len(loss) + 1)\n",
    "\n",
    "plt.plot(epochs, loss, 'bo', label='Training loss')\n",
    "plt.plot(epochs, val_loss, 'b', label='Validation loss')\n",
    "plt.title('Training and validation loss')\n",
    "plt.xlabel('Epochs')\n",
    "plt.ylabel('Loss')\n",
    "plt.legend()"
   ]
  },
  {
   "cell_type": "markdown",
   "metadata": {},
   "source": [
    "The validation loss is minimized after 8 epochs of training. Let us examine how accuracy varies."
   ]
  },
  {
   "cell_type": "code",
   "execution_count": 14,
   "metadata": {},
   "outputs": [
    {
     "data": {
      "text/plain": [
       "<matplotlib.legend.Legend at 0x7fe338130ed0>"
      ]
     },
     "execution_count": 14,
     "metadata": {},
     "output_type": "execute_result"
    },
    {
     "data": {
      "image/png": "[encoded data removed]",
      "text/plain": [
       "<Figure size 432x288 with 1 Axes>"
      ]
     },
     "metadata": {
      "needs_background": "light"
     },
     "output_type": "display_data"
    }
   ],
   "source": [
    "acc = history.history['accuracy']\n",
    "val_acc = history.history['val_accuracy']\n",
    "\n",
    "plt.plot(epochs, acc, 'bo', label='Training acc')\n",
    "plt.plot(epochs, val_acc, 'b', label='Validation acc')\n",
    "plt.title('Training and validation accuracy')\n",
    "plt.xlabel('Epochs')\n",
    "plt.ylabel('Loss')\n",
    "plt.legend()"
   ]
  },
  {
   "cell_type": "markdown",
   "metadata": {},
   "source": [
    "## 3.1. Test set performance\n",
    "Based on the plots above, the network begins to overfit after 9 epochs."
   ]
  },
  {
   "cell_type": "code",
   "execution_count": 15,
   "metadata": {},
   "outputs": [
    {
     "name": "stdout",
     "output_type": "stream",
     "text": [
      "Train on 7982 samples, validate on 1000 samples\n",
      "Epoch 1/9\n",
      "7982/7982 [==============================] - 1s 91us/step - loss: 2.6641 - accuracy: 0.5264 - val_loss: 1.7671 - val_accuracy: 0.6250\n",
      "Epoch 2/9\n",
      "7982/7982 [==============================] - 1s 83us/step - loss: 1.4497 - accuracy: 0.7027 - val_loss: 1.3154 - val_accuracy: 0.7200\n",
      "Epoch 3/9\n",
      "7982/7982 [==============================] - 1s 83us/step - loss: 1.0570 - accuracy: 0.7816 - val_loss: 1.1476 - val_accuracy: 0.7500\n",
      "Epoch 4/9\n",
      "7982/7982 [==============================] - 1s 78us/step - loss: 0.8270 - accuracy: 0.8240 - val_loss: 1.0484 - val_accuracy: 0.7710\n",
      "Epoch 5/9\n",
      "7982/7982 [==============================] - 1s 82us/step - loss: 0.6526 - accuracy: 0.8601 - val_loss: 0.9666 - val_accuracy: 0.8040\n",
      "Epoch 6/9\n",
      "7982/7982 [==============================] - 1s 78us/step - loss: 0.5178 - accuracy: 0.8929 - val_loss: 0.9246 - val_accuracy: 0.8180\n",
      "Epoch 7/9\n",
      "7982/7982 [==============================] - 1s 83us/step - loss: 0.4151 - accuracy: 0.9163 - val_loss: 0.9061 - val_accuracy: 0.8170\n",
      "Epoch 8/9\n",
      "7982/7982 [==============================] - 1s 83us/step - loss: 0.3419 - accuracy: 0.9278 - val_loss: 0.9410 - val_accuracy: 0.8010\n",
      "Epoch 9/9\n",
      "7982/7982 [==============================] - 1s 81us/step - loss: 0.2795 - accuracy: 0.9399 - val_loss: 0.9216 - val_accuracy: 0.8100\n"
     ]
    },
    {
     "data": {
      "text/plain": [
       "<keras.callbacks.callbacks.History at 0x7fe337ec3dd0>"
      ]
     },
     "execution_count": 15,
     "metadata": {},
     "output_type": "execute_result"
    }
   ],
   "source": [
    "model = models.Sequential()\n",
    "model.add(layers.Dense(64, activation='relu', input_shape=(10000,)))\n",
    "model.add(layers.Dense(64, activation='relu'))\n",
    "model.add(layers.Dense(46, activation='softmax'))\n",
    "\n",
    "model.compile(optimizer='rmsprop', loss='categorical_crossentropy', metrics=['accuracy'])\n",
    "\n",
    "model.fit(partial_x_train, partial_y_train, epochs=9, batch_size=512, validation_data=(x_val, y_val))"
   ]
  },
  {
   "cell_type": "markdown",
   "metadata": {},
   "source": [
    "We can then evaluate the model results."
   ]
  },
  {
   "cell_type": "code",
   "execution_count": 16,
   "metadata": {},
   "outputs": [
    {
     "name": "stdout",
     "output_type": "stream",
     "text": [
      "2246/2246 [==============================] - 0s 64us/step\n"
     ]
    },
    {
     "data": {
      "text/plain": [
       "[0.9976062732197192, 0.7871772050857544]"
      ]
     },
     "execution_count": 16,
     "metadata": {},
     "output_type": "execute_result"
    }
   ],
   "source": [
    "results = model.evaluate(x_test, one_hot_test_labels)\n",
    "results"
   ]
  },
  {
   "cell_type": "markdown",
   "metadata": {},
   "source": [
    "An accuracy of ~80% is achieved. How does this compare to a purely random classifier?"
   ]
  },
  {
   "cell_type": "code",
   "execution_count": 17,
   "metadata": {},
   "outputs": [
    {
     "data": {
      "text/plain": [
       "0.19056099732858414"
      ]
     },
     "execution_count": 17,
     "metadata": {},
     "output_type": "execute_result"
    }
   ],
   "source": [
    "import copy\n",
    "\n",
    "test_labels_copy = copy.copy(test_labels)\n",
    "np.random.shuffle(test_labels_copy)\n",
    "hits_array = np.array(test_labels) == np.array(test_labels_copy)\n",
    "float(np.sum(hits_array)) / len(test_labels)"
   ]
  },
  {
   "cell_type": "markdown",
   "metadata": {},
   "source": [
    "We see that the the random classifier only achieves ~18% accuracy... much less than the 79% achieved by the neural network!\n",
    "\n",
    "# 4. Model Performance with other Factors\n",
    "## 4.1. Encoding of Labels\n",
    "Instead of one-hot encoding, we can instead choose to cast the label as integers."
   ]
  },
  {
   "cell_type": "code",
   "execution_count": 18,
   "metadata": {},
   "outputs": [],
   "source": [
    "y_train = np.array(train_labels)\n",
    "y_test = np.array(test_labels)"
   ]
  },
  {
   "cell_type": "markdown",
   "metadata": {},
   "source": [
    "In this case, we should rather use a 'sparse categorical cross-entropy' (instead of 'categorical cross-entropy')."
   ]
  },
  {
   "cell_type": "code",
   "execution_count": 19,
   "metadata": {},
   "outputs": [
    {
     "name": "stdout",
     "output_type": "stream",
     "text": [
      "Train on 7982 samples, validate on 1000 samples\n",
      "Epoch 1/9\n",
      "7982/7982 [==============================] - 1s 77us/step - loss: 0.2636 - accuracy: 0.9411 - val_loss: 0.9309 - val_accuracy: 0.8110\n",
      "Epoch 2/9\n",
      "7982/7982 [==============================] - 0s 60us/step - loss: 0.1947 - accuracy: 0.9514 - val_loss: 1.0019 - val_accuracy: 0.8010\n",
      "Epoch 3/9\n",
      "7982/7982 [==============================] - 0s 58us/step - loss: 0.1810 - accuracy: 0.9518 - val_loss: 0.9654 - val_accuracy: 0.8060\n",
      "Epoch 4/9\n",
      "7982/7982 [==============================] - 0s 56us/step - loss: 0.1655 - accuracy: 0.9526 - val_loss: 0.9875 - val_accuracy: 0.8120\n",
      "Epoch 5/9\n",
      "7982/7982 [==============================] - 0s 57us/step - loss: 0.1490 - accuracy: 0.9536 - val_loss: 1.0048 - val_accuracy: 0.8070\n",
      "Epoch 6/9\n",
      "7982/7982 [==============================] - 0s 59us/step - loss: 0.1349 - accuracy: 0.9558 - val_loss: 1.0135 - val_accuracy: 0.8080\n",
      "Epoch 7/9\n",
      "7982/7982 [==============================] - 0s 60us/step - loss: 0.1291 - accuracy: 0.9577 - val_loss: 1.0387 - val_accuracy: 0.8120\n",
      "Epoch 8/9\n",
      "7982/7982 [==============================] - 0s 59us/step - loss: 0.1241 - accuracy: 0.9577 - val_loss: 1.0906 - val_accuracy: 0.7990\n",
      "Epoch 9/9\n",
      "7982/7982 [==============================] - 0s 58us/step - loss: 0.1196 - accuracy: 0.9585 - val_loss: 1.0561 - val_accuracy: 0.8090\n",
      "2246/2246 [==============================] - 0s 50us/step\n"
     ]
    },
    {
     "data": {
      "text/plain": [
       "[1.1770084819301154, 0.7925200462341309]"
      ]
     },
     "execution_count": 19,
     "metadata": {},
     "output_type": "execute_result"
    }
   ],
   "source": [
    "model.compile(optimizer='rmsprop', loss='sparse_categorical_crossentropy', metrics=['accuracy'])\n",
    "\n",
    "y_val = y_train[:1000]\n",
    "partial_y_train = y_train[1000:]\n",
    "\n",
    "model.fit(partial_x_train, partial_y_train, epochs=9, batch_size=512, validation_data=(x_val, y_val))\n",
    "\n",
    "results = model.evaluate(x_test, y_test)\n",
    "results"
   ]
  },
  {
   "cell_type": "markdown",
   "metadata": {},
   "source": [
    "The model achieves effectively the same accuracy as the previous one. This is expected as 'sparse_categorial_crossentropy' is mathematically identical to 'categorical_crossentropy'. We are just using a different interface. Let's revert back to the original data."
   ]
  },
  {
   "cell_type": "code",
   "execution_count": 20,
   "metadata": {},
   "outputs": [],
   "source": [
    "y_val = one_hot_train_labels[:1000]\n",
    "partial_y_train = one_hot_train_labels[1000:]"
   ]
  },
  {
   "cell_type": "markdown",
   "metadata": {},
   "source": [
    "## 4.2. Model Architecture\n",
    "We shall both examine how the performance varies as we change the number of hidden layers and the number of units in each layer.\n",
    "\n",
    "### 4.2.1. Number of Units\n",
    "Let us vary the number of hidden units whilst keeping the number of hidden layers at 2 and the number of epochs to train with based on the optimum validation loss."
   ]
  },
  {
   "cell_type": "code",
   "execution_count": 21,
   "metadata": {},
   "outputs": [
    {
     "name": "stdout",
     "output_type": "stream",
     "text": [
      "[# Units: 32, Optimum Epochs: 14, Validation Loss: 0.9408710441589355, Validation Accuracy: 0.8109999895095825]\n",
      "[# Units: 64, Optimum Epochs: 8, Validation Loss: 0.8910752620697021, Validation Accuracy: 0.8209999799728394]\n",
      "[# Units: 128, Optimum Epochs: 6, Validation Loss: 0.854744662284851, Validation Accuracy: 0.8289999961853027]\n"
     ]
    }
   ],
   "source": [
    "nUnits = [32, 64, 128]\n",
    "\n",
    "loss_values = np.zeros(len(nUnits))\n",
    "val_loss_values = np.zeros(len(nUnits))\n",
    "acc_values = np.zeros(len(nUnits))\n",
    "val_acc_values = np.zeros(len(nUnits))\n",
    "for i, n in enumerate(nUnits):\n",
    "    model = models.Sequential()\n",
    "    model.add(layers.Dense(n, activation='relu', input_shape=(10000,)))\n",
    "    model.add(layers.Dense(n, activation='relu'))\n",
    "    model.add(layers.Dense(46, activation='softmax'))\n",
    "\n",
    "    model.compile(optimizer='rmsprop', loss='categorical_crossentropy', metrics=['accuracy'])\n",
    "    h = model.fit(partial_x_train, partial_y_train, epochs=20, batch_size=512, \n",
    "                  validation_data=(x_val, y_val), verbose=0)\n",
    "    h = h.history\n",
    "    \n",
    "    minInd = np.argmin(h['val_loss'])\n",
    "    \n",
    "    loss_values[i] = h['loss'][minInd]\n",
    "    val_loss_values[i] = h['val_loss'][minInd]\n",
    "    acc_values[i] = h['accuracy'][minInd]\n",
    "    val_acc_values[i] = h['val_accuracy'][minInd]\n",
    "    \n",
    "    print(\"[# Units: %s, Optimum Epochs: %s, Validation Loss: %s, Validation Accuracy: %s]\"\n",
    "          %(n, minInd + 1, val_loss_values[i], val_acc_values[i]))\n"
   ]
  },
  {
   "cell_type": "markdown",
   "metadata": {},
   "source": [
    "We see that having 64 hidden units is the optimum for validation loss and accuracy. Let us see what would occur if we kept the first layer at 64 hidden units but compress the second layer to 4 hidden units."
   ]
  },
  {
   "cell_type": "code",
   "execution_count": 22,
   "metadata": {},
   "outputs": [
    {
     "name": "stdout",
     "output_type": "stream",
     "text": [
      "Train on 7982 samples, validate on 1000 samples\n",
      "Epoch 1/20\n",
      "7982/7982 [==============================] - 1s 68us/step - loss: 3.4185 - accuracy: 0.0034 - val_loss: 3.0791 - val_accuracy: 0.0050\n",
      "Epoch 2/20\n",
      "7982/7982 [==============================] - 0s 62us/step - loss: 2.8499 - accuracy: 0.0764 - val_loss: 2.6618 - val_accuracy: 0.2420\n",
      "Epoch 3/20\n",
      "7982/7982 [==============================] - 1s 73us/step - loss: 2.3598 - accuracy: 0.4127 - val_loss: 2.1749 - val_accuracy: 0.5420\n",
      "Epoch 4/20\n",
      "7982/7982 [==============================] - 1s 72us/step - loss: 1.9223 - accuracy: 0.5482 - val_loss: 1.8936 - val_accuracy: 0.5440\n",
      "Epoch 5/20\n",
      "7982/7982 [==============================] - 1s 73us/step - loss: 1.6872 - accuracy: 0.5763 - val_loss: 1.7469 - val_accuracy: 0.5700\n",
      "Epoch 6/20\n",
      "7982/7982 [==============================] - 1s 73us/step - loss: 1.5344 - accuracy: 0.5950 - val_loss: 1.6491 - val_accuracy: 0.5760\n",
      "Epoch 7/20\n",
      "7982/7982 [==============================] - 1s 73us/step - loss: 1.4204 - accuracy: 0.6096 - val_loss: 1.6186 - val_accuracy: 0.5900\n",
      "Epoch 8/20\n",
      "7982/7982 [==============================] - 1s 81us/step - loss: 1.3242 - accuracy: 0.6248 - val_loss: 1.5295 - val_accuracy: 0.6110\n",
      "Epoch 9/20\n",
      "7982/7982 [==============================] - 1s 76us/step - loss: 1.2386 - accuracy: 0.6383 - val_loss: 1.5330 - val_accuracy: 0.6120\n",
      "Epoch 10/20\n",
      "7982/7982 [==============================] - 1s 75us/step - loss: 1.1605 - accuracy: 0.6486 - val_loss: 1.4511 - val_accuracy: 0.6220\n",
      "Epoch 11/20\n",
      "7982/7982 [==============================] - 1s 73us/step - loss: 1.0898 - accuracy: 0.6621 - val_loss: 1.4237 - val_accuracy: 0.6480\n",
      "Epoch 12/20\n",
      "7982/7982 [==============================] - 1s 74us/step - loss: 1.0233 - accuracy: 0.6984 - val_loss: 1.4142 - val_accuracy: 0.6560\n",
      "Epoch 13/20\n",
      "7982/7982 [==============================] - 1s 76us/step - loss: 0.9643 - accuracy: 0.7225 - val_loss: 1.3778 - val_accuracy: 0.6730\n",
      "Epoch 14/20\n",
      "7982/7982 [==============================] - 1s 80us/step - loss: 0.9108 - accuracy: 0.7526 - val_loss: 1.3687 - val_accuracy: 0.6860\n",
      "Epoch 15/20\n",
      "7982/7982 [==============================] - 1s 79us/step - loss: 0.8629 - accuracy: 0.7674 - val_loss: 1.3661 - val_accuracy: 0.6910\n",
      "Epoch 16/20\n",
      "7982/7982 [==============================] - 1s 82us/step - loss: 0.8200 - accuracy: 0.7731 - val_loss: 1.3521 - val_accuracy: 0.7050\n",
      "Epoch 17/20\n",
      "7982/7982 [==============================] - 1s 79us/step - loss: 0.7793 - accuracy: 0.7856 - val_loss: 1.3566 - val_accuracy: 0.7010\n",
      "Epoch 18/20\n",
      "7982/7982 [==============================] - 1s 80us/step - loss: 0.7456 - accuracy: 0.7907 - val_loss: 1.3483 - val_accuracy: 0.7020\n",
      "Epoch 19/20\n",
      "7982/7982 [==============================] - 1s 77us/step - loss: 0.7133 - accuracy: 0.7948 - val_loss: 1.3622 - val_accuracy: 0.7080\n",
      "Epoch 20/20\n",
      "7982/7982 [==============================] - 1s 74us/step - loss: 0.6818 - accuracy: 0.7977 - val_loss: 1.3702 - val_accuracy: 0.7050\n"
     ]
    },
    {
     "data": {
      "text/plain": [
       "<keras.callbacks.callbacks.History at 0x7fe2ec1ff710>"
      ]
     },
     "execution_count": 22,
     "metadata": {},
     "output_type": "execute_result"
    }
   ],
   "source": [
    "model = models.Sequential()\n",
    "model.add(layers.Dense(64, activation='relu', input_shape=(10000,)))\n",
    "model.add(layers.Dense(4, activation='relu'))\n",
    "model.add(layers.Dense(46, activation='softmax'))\n",
    "\n",
    "model.compile(optimizer='rmsprop', loss='categorical_crossentropy', metrics=['accuracy'])\n",
    "\n",
    "model.fit(partial_x_train, partial_y_train, epochs=20, batch_size=512, validation_data=(x_val, y_val))"
   ]
  },
  {
   "cell_type": "code",
   "execution_count": 23,
   "metadata": {},
   "outputs": [
    {
     "name": "stdout",
     "output_type": "stream",
     "text": [
      "2246/2246 [==============================] - 0s 53us/step\n"
     ]
    },
    {
     "data": {
      "text/plain": [
       "[1.4761854196804927, 0.6896705031394958]"
      ]
     },
     "execution_count": 23,
     "metadata": {},
     "output_type": "execute_result"
    }
   ],
   "source": [
    "results = model.evaluate(x_test, one_hot_test_labels)\n",
    "results"
   ]
  },
  {
   "cell_type": "markdown",
   "metadata": {},
   "source": [
    "Due to the information bottleneck in the second layer, the performance deteriorates from ~78% in the original model to ~69% here.\n",
    "\n",
    "### 4.2.2. Number of Layers\n",
    "\n",
    "We shall try between 1 and 3 hidden layers.  In all cases, we shall train on the optimum number of epochs (according to the validated loss) and use 64 hidden units."
   ]
  },
  {
   "cell_type": "code",
   "execution_count": 24,
   "metadata": {},
   "outputs": [
    {
     "name": "stdout",
     "output_type": "stream",
     "text": [
      "[# Layers: 1, Optimum Epochs: 10, Validation Loss: 0.8197776393890381, Validation Accuracy: 0.8209999799728394]\n",
      "[# Layers: 2, Optimum Epochs: 7, Validation Loss: 0.8643952832221985, Validation Accuracy: 0.8190000057220459]\n",
      "[# Layers: 3, Optimum Epochs: 8, Validation Loss: 0.9922438554763794, Validation Accuracy: 0.7960000038146973]\n"
     ]
    }
   ],
   "source": [
    "nLayers = np.arange(1, 4, 1)\n",
    "\n",
    "loss_values = np.zeros(len(nLayers))\n",
    "val_loss_values = np.zeros(len(nLayers))\n",
    "acc_values = np.zeros(len(nLayers))\n",
    "val_acc_values = np.zeros(len(nLayers))\n",
    "for i, n in enumerate(nLayers):\n",
    "    model = models.Sequential()\n",
    "    model.add(layers.Dense(64, activation='relu', input_shape=(10000,)))\n",
    "    if n > 1:\n",
    "        for i in range(n - 1):\n",
    "            model.add(layers.Dense(64, activation='relu'))\n",
    "    model.add(layers.Dense(46, activation='softmax'))\n",
    "\n",
    "    model.compile(optimizer='rmsprop', loss='categorical_crossentropy', metrics=['accuracy'])\n",
    "    h = model.fit(partial_x_train, partial_y_train, epochs=20, batch_size=512, \n",
    "                  validation_data=(x_val, y_val), verbose=0)\n",
    "    h = h.history\n",
    "    \n",
    "    minInd = np.argmin(h['val_loss'])\n",
    "    \n",
    "    loss_values[i] = h['loss'][minInd]\n",
    "    val_loss_values[i] = h['val_loss'][minInd]\n",
    "    acc_values[i] = h['accuracy'][minInd]\n",
    "    val_acc_values[i] = h['val_accuracy'][minInd]\n",
    "    \n",
    "    print(\"[# Layers: %s, Optimum Epochs: %s, Validation Loss: %s, Validation Accuracy: %s]\"\n",
    "          %(n, minInd + 1, val_loss_values[i], val_acc_values[i]))\n"
   ]
  },
  {
   "cell_type": "markdown",
   "metadata": {},
   "source": [
    "We see that having two hidden layers is indeed optimum."
   ]
  },
  {
   "cell_type": "code",
   "execution_count": null,
   "metadata": {},
   "outputs": [],
   "source": []
  }
 ],
 "metadata": {
  "kernelspec": {
   "display_name": "Python 3",
   "language": "python",
   "name": "python3"
  },
  "language_info": {
   "codemirror_mode": {
    "name": "ipython",
    "version": 3
   },
   "file_extension": ".py",
   "mimetype": "text/x-python",
   "name": "python",
   "nbconvert_exporter": "python",
   "pygments_lexer": "ipython3",
   "version": "3.7.5"
  }
 },
 "nbformat": 4,
 "nbformat_minor": 4
}
