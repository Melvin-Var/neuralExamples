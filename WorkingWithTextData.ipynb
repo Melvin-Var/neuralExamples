{
 "cells": [
  {
   "cell_type": "markdown",
   "metadata": {},
   "source": [
    "# Working with Text Data\n",
    "\n",
    "# 1. Introduction\n",
    "There are three main ways of tokenizing text:\n",
    "1. Segment text into words\n",
    "2. Segment text into charaters\n",
    "3. Segment text into n-grams of words or character\n",
    "\n",
    "Once the text has been tokenized, we can convert it into vectors in one of two ways:\n",
    "- one hot encoding\n",
    "- word embedding\n",
    "We will consider each in turn.\n",
    "\n",
    "# 2. One-hot Encoding\n",
    "We could perform one-hot encoding at the word or character level.\n",
    "\n",
    "Here is one-hot encoding for words."
   ]
  },
  {
   "cell_type": "code",
   "execution_count": 1,
   "metadata": {},
   "outputs": [
    {
     "name": "stderr",
     "output_type": "stream",
     "text": [
      "Using TensorFlow backend.\n"
     ]
    }
   ],
   "source": [
    "import os\n",
    "import numpy as np\n",
    "import string\n",
    "import matplotlib.pyplot as plt\n",
    "\n",
    "from keras.preprocessing.text import Tokenizer\n",
    "from keras.preprocessing.sequence import pad_sequences\n",
    "from keras.layers import Embedding\n",
    "from keras.datasets import imdb\n",
    "from keras import preprocessing\n",
    "\n",
    "from keras.models import Sequential\n",
    "from keras.layers import Flatten, Dense"
   ]
  },
  {
   "cell_type": "code",
   "execution_count": 2,
   "metadata": {},
   "outputs": [],
   "source": [
    "samples = ['The cat sat on the mat.', 'The dog ate my homework.']\n",
    "\n",
    "token_index = {}  # this is a dictionary mapping words to indices\n",
    "for sample in samples:\n",
    "    for word in sample.split():\n",
    "        if word not in token_index:\n",
    "            token_index[word] = len(token_index) + 1  # index for the very first added word is 1\n",
    "            \n",
    "max_length = 10\n",
    "\n",
    "results = np.zeros(shape=(len(samples), max_length, max(token_index.values()) + 1))\n",
    "for i, sample in enumerate(samples):\n",
    "    for j, word in list(enumerate(sample.split()))[:max_length]:\n",
    "        index = token_index.get(word)\n",
    "        results[i, j, index] = 1"
   ]
  },
  {
   "cell_type": "markdown",
   "metadata": {},
   "source": [
    "We can check the one-hot encoding for the second sample."
   ]
  },
  {
   "cell_type": "code",
   "execution_count": 3,
   "metadata": {
    "scrolled": true
   },
   "outputs": [
    {
     "data": {
      "text/plain": [
       "array([[0., 1., 0., 0., 0., 0., 0., 0., 0., 0., 0.],\n",
       "       [0., 0., 0., 0., 0., 0., 0., 1., 0., 0., 0.],\n",
       "       [0., 0., 0., 0., 0., 0., 0., 0., 1., 0., 0.],\n",
       "       [0., 0., 0., 0., 0., 0., 0., 0., 0., 1., 0.],\n",
       "       [0., 0., 0., 0., 0., 0., 0., 0., 0., 0., 1.],\n",
       "       [0., 0., 0., 0., 0., 0., 0., 0., 0., 0., 0.],\n",
       "       [0., 0., 0., 0., 0., 0., 0., 0., 0., 0., 0.],\n",
       "       [0., 0., 0., 0., 0., 0., 0., 0., 0., 0., 0.],\n",
       "       [0., 0., 0., 0., 0., 0., 0., 0., 0., 0., 0.],\n",
       "       [0., 0., 0., 0., 0., 0., 0., 0., 0., 0., 0.]])"
      ]
     },
     "execution_count": 3,
     "metadata": {},
     "output_type": "execute_result"
    }
   ],
   "source": [
    "results[1, :, :]"
   ]
  },
  {
   "cell_type": "markdown",
   "metadata": {},
   "source": [
    "As the sample has only five words, only the first five rows have 1's occuring. By convention, the first column is full of zeros.\n",
    "\n",
    "We can also one-hot encode letters."
   ]
  },
  {
   "cell_type": "code",
   "execution_count": 4,
   "metadata": {},
   "outputs": [],
   "source": [
    "characters = string.printable  # shows all printable ASCII characters\n",
    "token_index = dict(zip(characters, range(1, len(characters) + 1)))  # map each ascii character to index\n",
    "\n",
    "max_length = 50\n",
    "results = np.zeros((len(samples), max_length, max(token_index.values()) + 1))\n",
    "for i, sample in enumerate(samples):\n",
    "    for j, character in enumerate(sample):\n",
    "        index = token_index.get(character)\n",
    "        results[i, j, index] = 1"
   ]
  },
  {
   "cell_type": "markdown",
   "metadata": {},
   "source": [
    "Keras enables you to perform one-hot encoding. It has the advantage of also stripping special characters and only taking into account the $N$ most common words."
   ]
  },
  {
   "cell_type": "code",
   "execution_count": 5,
   "metadata": {},
   "outputs": [
    {
     "name": "stdout",
     "output_type": "stream",
     "text": [
      "{'the': 1, 'cat': 2, 'sat': 3, 'on': 4, 'mat': 5, 'dog': 6, 'ate': 7, 'my': 8, 'homework': 9}\n",
      "[[1, 2, 3, 4, 1, 5], [1, 6, 7, 8, 9]]\n",
      "[[0. 1. 1. 1. 1. 1. 0. 0. 0. 0. 0. 0. 0. 0. 0. 0. 0. 0. 0. 0.]\n",
      " [0. 1. 0. 0. 0. 0. 1. 1. 1. 1. 0. 0. 0. 0. 0. 0. 0. 0. 0. 0.]]\n"
     ]
    }
   ],
   "source": [
    "tokenizer = Tokenizer(num_words=1000)  # tokenizer only takes into account the 1,000 most common words\n",
    "tokenizer.fit_on_texts(samples)  # builds the word index\n",
    "word_index = tokenizer.word_index  # dictionary mapping word to index\n",
    "print(word_index)\n",
    "\n",
    "sequences = tokenizer.texts_to_sequences(samples)  # sequence of word_indices for each sample\n",
    "print(sequences)\n",
    "one_hot_results = tokenizer.texts_to_matrix(samples, mode='binary')\n",
    "print(one_hot_results[:, :20])"
   ]
  },
  {
   "cell_type": "markdown",
   "metadata": {},
   "source": [
    "One-hot hashing avoids explicitly assigning an index to each word. Rather words are hased into vectors of fixed size. It saves memory and allows online encoding of data. However, it is possible that two words may end up with the same hash - particularly if the dimensionality is too small."
   ]
  },
  {
   "cell_type": "code",
   "execution_count": 6,
   "metadata": {},
   "outputs": [],
   "source": [
    "dimensionality = 1000\n",
    "max_length = 10\n",
    "\n",
    "results = np.zeros((len(samples), max_length, dimensionality))\n",
    "for i, sample in enumerate(samples):\n",
    "    for j, word in list(enumerate(sample.split()))[:max_length]:\n",
    "        index = abs(hash(word)) % dimensionality  # hashes word into random integer index between 0 and 1000\n",
    "        results[i, j, index] = 1"
   ]
  },
  {
   "cell_type": "markdown",
   "metadata": {},
   "source": [
    "# 3. Word Embeddings\n",
    "There are two ways to embed words:\n",
    "- learn embeddings jointly with the main task (e.g. document classification, sentiment prediction). Here, we start with random word vectors and update them via back propogation.\n",
    "- load pretrained word embeddings\n",
    "\n",
    "## 3.1. Learn Word Embeddings\n",
    "Embeddings are a dictionary that map integer indices (which stand for various words) to dense vectors. The Embedding layer takes in a tensor of shape `(samples, sequence_length)`. We truncate longer sequences and zero-pad short sequences so all samples have the same length. The layer returns a tensor of shape `(samples, sequence_length, embedding_dimensionality)`. This tensor can be processed by an RNN or a convolutional layer.\n",
    "\n",
    "Let us load the IMDB dataset."
   ]
  },
  {
   "cell_type": "code",
   "execution_count": 7,
   "metadata": {},
   "outputs": [
    {
     "name": "stdout",
     "output_type": "stream",
     "text": [
      "Example of Training Sequence\n",
      "[1, 14, 22, 16, 43, 530, 973, 1622, 1385, 65, 458, 4468, 66, 3941, 4, 173, 36, 256, 5, 25, 100, 43, 838, 112, 50, 670, 2, 9, 35, 480, 284, 5, 150, 4, 172, 112, 167, 2, 336, 385, 39, 4, 172, 4536, 1111, 17, 546, 38, 13, 447, 4, 192, 50, 16, 6, 147, 2025, 19, 14, 22, 4, 1920, 4613, 469, 4, 22, 71, 87, 12, 16, 43, 530, 38, 76, 15, 13, 1247, 4, 22, 17, 515, 17, 12, 16, 626, 18, 2, 5, 62, 386, 12, 8, 316, 8, 106, 5, 4, 2223, 5244, 16, 480, 66, 3785, 33, 4, 130, 12, 16, 38, 619, 5, 25, 124, 51, 36, 135, 48, 25, 1415, 33, 6, 22, 12, 215, 28, 77, 52, 5, 14, 407, 16, 82, 2, 8, 4, 107, 117, 5952, 15, 256, 4, 2, 7, 3766, 5, 723, 36, 71, 43, 530, 476, 26, 400, 317, 46, 7, 4, 2, 1029, 13, 104, 88, 4, 381, 15, 297, 98, 32, 2071, 56, 26, 141, 6, 194, 7486, 18, 4, 226, 22, 21, 134, 476, 26, 480, 5, 144, 30, 5535, 18, 51, 36, 28, 224, 92, 25, 104, 4, 226, 65, 16, 38, 1334, 88, 12, 16, 283, 5, 16, 4472, 113, 103, 32, 15, 16, 5345, 19, 178, 32]\n",
      "Sequence Shortened!\n",
      "[  65   16   38 1334   88   12   16  283    5   16 4472  113  103   32\n",
      "   15   16 5345   19  178   32]\n"
     ]
    }
   ],
   "source": [
    "max_features = 10000  # only consider the max_features most popular words\n",
    "maxlen = 20  # cuts off texts after this number of words\n",
    "\n",
    "(x_train, y_train), (x_test, y_test) = imdb.load_data(num_words=max_features)\n",
    "print('Example of Training Sequence')\n",
    "print(x_train[0])\n",
    "x_train = preprocessing.sequence.pad_sequences(x_train, maxlen=maxlen)\n",
    "x_test = preprocessing.sequence.pad_sequences(x_test, maxlen=maxlen)\n",
    "\n",
    "print('Sequence Shortened!')\n",
    "print(x_train[0])\n",
    "\n",
    "embedding_layer = Embedding(1000, 64)  # 1st argument = # tokens, 2nd = embedding dimensions"
   ]
  },
  {
   "cell_type": "markdown",
   "metadata": {},
   "source": [
    "We can now define a model with an Embedding layer."
   ]
  },
  {
   "cell_type": "code",
   "execution_count": 8,
   "metadata": {},
   "outputs": [
    {
     "name": "stdout",
     "output_type": "stream",
     "text": [
      "Model: \"sequential_1\"\n",
      "_________________________________________________________________\n",
      "Layer (type)                 Output Shape              Param #   \n",
      "=================================================================\n",
      "embedding_2 (Embedding)      (None, 20, 8)             80000     \n",
      "_________________________________________________________________\n",
      "flatten_1 (Flatten)          (None, 160)               0         \n",
      "_________________________________________________________________\n",
      "dense_1 (Dense)              (None, 1)                 161       \n",
      "=================================================================\n",
      "Total params: 80,161\n",
      "Trainable params: 80,161\n",
      "Non-trainable params: 0\n",
      "_________________________________________________________________\n"
     ]
    }
   ],
   "source": [
    "model = Sequential()\n",
    "# Embedding shaoe is (samples, maxlen, 8)\n",
    "model.add(Embedding(10000, 8, input_length=maxlen))  # 1st argument = # possible tokens, 2nd = embedding dim\n",
    "# flattening treats each word in input separately, ignoring sentence structure and inter-dependencies\n",
    "model.add(Flatten())  # flatten to shape (samples, maxlen * 8)\n",
    "\n",
    "model.add(Dense(1, activation='sigmoid'))  # add a classifier ontop the embedding layer\n",
    "model.compile(optimizer='rmsprop', loss='binary_crossentropy', metrics=['acc'])\n",
    "model.summary()"
   ]
  },
  {
   "cell_type": "markdown",
   "metadata": {},
   "source": [
    "We can now fit the model to the training data."
   ]
  },
  {
   "cell_type": "code",
   "execution_count": 9,
   "metadata": {},
   "outputs": [
    {
     "name": "stderr",
     "output_type": "stream",
     "text": [
      "/home/d869321/anaconda3/envs/neural/lib/python3.7/site-packages/tensorflow_core/python/framework/indexed_slices.py:424: UserWarning: Converting sparse IndexedSlices to a dense Tensor of unknown shape. This may consume a large amount of memory.\n",
      "  \"Converting sparse IndexedSlices to a dense Tensor of unknown shape. \"\n"
     ]
    },
    {
     "name": "stdout",
     "output_type": "stream",
     "text": [
      "Train on 20000 samples, validate on 5000 samples\n",
      "Epoch 1/10\n",
      "20000/20000 [==============================] - 1s 43us/step - loss: 0.6727 - acc: 0.6199 - val_loss: 0.6284 - val_acc: 0.6954\n",
      "Epoch 2/10\n",
      "20000/20000 [==============================] - 1s 41us/step - loss: 0.5509 - acc: 0.7504 - val_loss: 0.5323 - val_acc: 0.7248\n",
      "Epoch 3/10\n",
      "20000/20000 [==============================] - 1s 37us/step - loss: 0.4655 - acc: 0.7882 - val_loss: 0.5042 - val_acc: 0.7442\n",
      "Epoch 4/10\n",
      "20000/20000 [==============================] - 1s 37us/step - loss: 0.4217 - acc: 0.8112 - val_loss: 0.4943 - val_acc: 0.7514\n",
      "Epoch 5/10\n",
      "20000/20000 [==============================] - 1s 36us/step - loss: 0.3911 - acc: 0.8269 - val_loss: 0.4930 - val_acc: 0.7568\n",
      "Epoch 6/10\n",
      "20000/20000 [==============================] - 1s 36us/step - loss: 0.3662 - acc: 0.8380 - val_loss: 0.4951 - val_acc: 0.7594\n",
      "Epoch 7/10\n",
      "20000/20000 [==============================] - 1s 37us/step - loss: 0.3435 - acc: 0.8511 - val_loss: 0.5027 - val_acc: 0.7582\n",
      "Epoch 8/10\n",
      "20000/20000 [==============================] - 1s 37us/step - loss: 0.3228 - acc: 0.8636 - val_loss: 0.5088 - val_acc: 0.7552\n",
      "Epoch 9/10\n",
      "20000/20000 [==============================] - 1s 36us/step - loss: 0.3033 - acc: 0.8749 - val_loss: 0.5162 - val_acc: 0.7570\n",
      "Epoch 10/10\n",
      "20000/20000 [==============================] - 1s 43us/step - loss: 0.2844 - acc: 0.8846 - val_loss: 0.5269 - val_acc: 0.7522\n"
     ]
    }
   ],
   "source": [
    "history = model.fit(x_train, y_train, epochs=10, batch_size=32, validation_split=0.2)"
   ]
  },
  {
   "cell_type": "markdown",
   "metadata": {},
   "source": [
    "The network achieves 75% accuracy ignoring sentence structure and only using the first 20 words in a review. Imagine how high it can go if we use the entire review and add an RNN or 1D CNN layer to account for sentence structure!\n",
    "\n",
    "## 3.2. Pretrained Word Embeddings\n",
    "A pretrained embedding can capture generic aspects of language structure. It is useful when there is not much data to learn an embedding.\n",
    "\n",
    "We shall see how to got from the raw text right through to the word embeddings.\n",
    "\n",
    "### 3.2.1. Downloading the Raw data\n",
    "\n",
    "We create a list `texts` to store the reviews and a list of integers `labels` to store the corresponding labels."
   ]
  },
  {
   "cell_type": "code",
   "execution_count": 10,
   "metadata": {},
   "outputs": [],
   "source": [
    "imdb_dir = '/home/d869321/Data/aclImdb'\n",
    "train_dir = os.path.join(imdb_dir, 'train')\n",
    "\n",
    "labels = []\n",
    "texts = []\n",
    "\n",
    "for label_type in ['neg', 'pos']:\n",
    "    dir_name = os.path.join(train_dir, label_type)\n",
    "    for fname in os.listdir(dir_name):\n",
    "        if fname[-4:]  == '.txt':\n",
    "            f = open(os.path.join(dir_name, fname))\n",
    "            texts.append(f.read())\n",
    "            f.close()\n",
    "            if label_type == 'neg':\n",
    "                labels.append(0)\n",
    "            else:\n",
    "                labels.append(1)"
   ]
  },
  {
   "cell_type": "markdown",
   "metadata": {},
   "source": [
    "We can subsequently preview the reviews."
   ]
  },
  {
   "cell_type": "code",
   "execution_count": 11,
   "metadata": {},
   "outputs": [
    {
     "name": "stdout",
     "output_type": "stream",
     "text": [
      "[0, 0, 1, 1]\n"
     ]
    },
    {
     "data": {
      "text/plain": [
       "[\"Without a doubt this is one of the worst films I've ever wasted money on! The plot is, erm sorry, did I say there was a plot? The scariest moment was when..., nope can't think of one! The best special effect that had me hiding under the bed covers was..., nope can't think of one for that either. You knew who the killer was right from the start. There was nothing scary about the whole movie, in fact the only two vaguely interesting bits were when you saw the kid sister, Misty, in the shower and when you saw Nurse Toppan take her top off. This film should only be watched to get an idea of how NOT to make a horror movie!!!\",\n",
       " 'this movie is outrageous. by outrageous, i mean awful. i had more fun watching the paint dry at my local hardware store on an august day while suffering from a migraine and heat stroke. the acting got progressively worse as the \"movie\" advanced, and the directors use of euphoric drugs became apparent as the final scenes approached. when misty was shot to death she decided that it would be prudent to blink post mordem. that was not intelligent. truthfully, stevie wonder could have caught that with his eyes closed. if you are deciding between playing with a nail gun while intoxicated and watching this movie, bear in mind that the nail gun will probably give you a better story to tell your friends.',\n",
       " 'ROCK N ROLL HIGH SCHOOL holds a special place in my heart because it introduced me to the Ramones. I was too young during the band\\'s mid-70s heyday to be very aware of them, although I had an older cousin who was a big fan at the time. I finally saw RNRHS on television one afternoon in the mid-80s when I was about fifteen years old, and laughed all the way through it. (Isn\\'t it every high school kid\\'s dream to trash his school and blow it up, all set to a rockin\\' soundtrack?) I recorded a subsequent airing of the film a year or two later and kept watching the Ramones concert sequences over and over again, thinking \"Man, these guys kick ass! I have to check out some of their albums!\" The rest is history. Twenty years, umpteen Ramones LPs/cassettes/CDs, and three Ramones shows later, they\\'re still one of my all time favorite bands and RNRHS still cracks me up every time I watch it. Now that Joey, Dee Dee and Johnny have left us (R.I.P. all)at least we have this movie and tons of great music to remember them by.',\n",
       " 'Nothing\\'s more enjoyable for me than a who-dun-it or suspense tale that keeps you guessing throughout as to how the whole thing will end. And that\\'s precisely what happens in DEATHTRAP, based on a chilling play by Ira Levin (\"Rosemary\\'s Baby\").<br /><br />And in it, MICHAEL CAINE and CHRISTOPHER REEVE get to do the kind of stunt that Caine and Laurence Olivier pulled off in SLEUTH--with just about as much skill and as many puzzles as ever existed in that extraordinarily clever play.<br /><br />But because it\\'s meant to scare you, surprise you, and keep you guessing as to the outcome, it\\'s difficult to write a review about the plot. Let\\'s just say that what we know in the beginning is all you have to know about the film for the present. MICHAEL CAINE is an insanely jealous playwright whose latest play has failed miserably. When a young aspiring writer CHRISTOPHER REEVE sends him the manuscript of his play, Caine realizes that passing it off as his own would solve all his problems and get his reputation back.<br /><br />From that point on, it\\'s a matter of fun and games for the audience as Ira Levin\\'s story unwinds, managing to trump Agatha Christie for the number of twists.<br /><br />Caine and Reeve play off each other brilliantly, each bringing a certain dynamic tension to the tale as well as some humorous touches that come from a script that laces drama with humor.<br /><br />Summing up: Well worth seeing--but not everyone is pleased with the ending.']"
      ]
     },
     "execution_count": 11,
     "metadata": {},
     "output_type": "execute_result"
    }
   ],
   "source": [
    "print(labels[12498:12502])\n",
    "texts[12498:12502]"
   ]
  },
  {
   "cell_type": "markdown",
   "metadata": {},
   "source": [
    "### 3.2.2. Tokenize the Data\n",
    "To show how a pretrained embedding can be useful, we restrict the training data to just 200 examples.\n",
    "\n",
    "We first convert each review into a sequence of integers via tokenization."
   ]
  },
  {
   "cell_type": "code",
   "execution_count": 12,
   "metadata": {
    "scrolled": true
   },
   "outputs": [
    {
     "name": "stdout",
     "output_type": "stream",
     "text": [
      "Length of sequence: 25000\n",
      "Example of a sequence: [7693, 2, 1, 4, 11, 819, 891, 20, 1, 352, 2016, 83, 1484, 31, 5674, 12, 4558, 1037, 3348, 186, 2, 12, 29, 4, 24, 408, 23, 976, 5, 27, 620, 612, 12, 328, 215, 280, 4558, 13, 52, 73, 32, 4, 1, 9878, 2, 24, 290, 4381, 13, 12, 6354, 529, 6887, 235, 560, 1, 695, 15, 1, 179, 1, 159, 2128, 97, 2232, 196, 1, 49, 2, 1, 75, 7, 7, 104, 391, 3606, 790, 1, 2306, 6, 996, 14, 3, 10, 13, 1574, 4, 3930, 8, 1, 201, 708, 1983, 244, 71, 3, 129, 2512, 5, 409, 43, 1, 4, 32, 1293, 9654, 2, 1, 804, 4, 612, 12, 2437, 692, 976, 5, 27, 620, 3022, 8, 3840, 7, 7, 29, 4, 11, 269, 37, 1656, 2130, 16, 32, 4174, 349, 5, 434, 20, 1679, 299, 60, 31, 1, 93, 23, 35, 858, 3584, 1, 2974, 5621, 1069, 3264, 4, 1, 6259, 97, 25, 221, 3, 125, 289, 4, 538, 605, 37, 764, 10, 870, 95, 5, 242, 98, 783, 101, 1, 4175, 7916, 14, 221, 31, 1, 151, 3432, 7, 7, 430, 243, 6, 1, 1927, 4, 753, 60, 1, 19, 4, 98, 279, 5, 1773, 258, 1, 1184, 4, 11, 19, 989, 1, 62, 5, 91, 6354, 997, 33, 1250, 714, 1, 7180, 93, 62, 8595, 108, 4, 1, 3626, 4, 1, 83, 179, 322, 3, 189, 21, 31, 4558, 306, 34, 100, 1, 322, 1, 753, 8, 1, 2990, 4, 180, 5, 213, 7, 7, 206, 98, 753, 29, 72, 25, 130, 23, 3, 173, 4, 81, 617, 184, 394, 80, 1069, 51, 503, 21, 266, 43, 15, 3, 309, 392, 362, 4, 3, 3712, 9092, 4, 7, 7, 63, 11, 6, 1, 246, 88, 4252, 415, 4, 3559, 10, 25, 3108, 140, 234, 3, 461, 3537, 69, 80, 316, 1, 4939, 1866, 1069, 774, 1220, 3249, 150, 593, 12, 19, 13, 35, 750, 58, 461, 2, 10, 2, 104, 959, 5074, 516, 53, 9, 41, 317, 93, 140, 2, 1822, 747, 1, 265, 393, 4311, 769, 1, 17, 14, 635, 31, 60, 5, 64, 1, 4311, 91, 61, 14, 227, 14, 98, 4, 175, 97, 373, 7, 7, 18, 10, 457, 25, 5283, 1519, 8, 58, 1600, 35, 10, 158, 356, 11, 273, 177, 4, 4558, 15, 229, 7, 7, 78, 21, 794, 11, 19, 2103, 172, 1036, 22, 67, 89, 987, 3, 2, 3513, 254, 2, 172, 28, 4, 95, 555, 8, 24, 4716, 1072, 175, 40, 15, 11, 1284]\n"
     ]
    }
   ],
   "source": [
    "maxlen = 100  # cuts off reviews after 100 words\n",
    "training_samples = 200\n",
    "validation_samples = 10000\n",
    "max_words = 10000  # consider only the 10,000 most popular words\n",
    "\n",
    "tokenizer = Tokenizer(num_words=max_words)\n",
    "tokenizer.fit_on_texts(texts)\n",
    "sequences = tokenizer.texts_to_sequences(texts)\n",
    "print('Length of sequence:', len(sequences))\n",
    "print('Example of a sequence:', sequences[0])"
   ]
  },
  {
   "cell_type": "markdown",
   "metadata": {},
   "source": [
    "We can see how the tokenizer maps each integer to an index."
   ]
  },
  {
   "cell_type": "code",
   "execution_count": 13,
   "metadata": {},
   "outputs": [
    {
     "name": "stdout",
     "output_type": "stream",
     "text": [
      "word_index: [('the', 1), ('and', 2), ('a', 3), ('of', 4), ('to', 5), ('is', 6), ('br', 7), ('in', 8), ('it', 9), ('i', 10), ('this', 11), ('that', 12), ('was', 13), ('as', 14), ('for', 15), ('with', 16), ('movie', 17), ('but', 18), ('film', 19), ('on', 20)]\n",
      "Found 88582 unique tokens.\n"
     ]
    }
   ],
   "source": [
    "from itertools import islice\n",
    "\n",
    "def take(n, iterable):\n",
    "    \"Return first n items of the iterable as a list\"\n",
    "    return list(islice(iterable, n))\n",
    "\n",
    "word_index = tokenizer.word_index\n",
    "n_items = take(20, word_index.items())\n",
    "print('word_index:', n_items)\n",
    "print('Found %s unique tokens.' % len(word_index))"
   ]
  },
  {
   "cell_type": "markdown",
   "metadata": {},
   "source": [
    "We can also split the data into a training set and a validation set."
   ]
  },
  {
   "cell_type": "code",
   "execution_count": 14,
   "metadata": {},
   "outputs": [
    {
     "name": "stdout",
     "output_type": "stream",
     "text": [
      "Shape of data tensor: (25000, 100)\n",
      "Shape of label tensor: (25000,)\n"
     ]
    }
   ],
   "source": [
    "data = pad_sequences(sequences, maxlen=maxlen)\n",
    "\n",
    "labels = np.asarray(labels)\n",
    "print('Shape of data tensor:', data.shape)\n",
    "print('Shape of label tensor:', labels.shape)\n",
    "\n",
    "indices = np.arange(data.shape[0])\n",
    "np.random.shuffle(indices)  # initially first half of data is negative reviews\n",
    "data = data[indices]\n",
    "labels = labels[indices]\n",
    "\n",
    "# 200 data points for training and 10000 for validation\n",
    "x_train = data[:training_samples]\n",
    "y_train = labels[:training_samples]\n",
    "x_val = data[training_samples: (training_samples + validation_samples)]\n",
    "y_val = labels[training_samples: (training_samples + validation_samples)]"
   ]
  },
  {
   "cell_type": "markdown",
   "metadata": {},
   "source": [
    "### 3.2.3. Using a Pretrained Embedding\n",
    "We shall use the Glove Embeddings, which contain a 100D embedding vector for 400,000 words.\n",
    "\n",
    "Let's parse the file and build an index that maps words o their vector representation."
   ]
  },
  {
   "cell_type": "code",
   "execution_count": 15,
   "metadata": {
    "scrolled": true
   },
   "outputs": [
    {
     "name": "stdout",
     "output_type": "stream",
     "text": [
      "word embedding for \"the\": [('the', array([-0.038194, -0.24487 ,  0.72812 , -0.39961 ,  0.083172,  0.043953,\n",
      "       -0.39141 ,  0.3344  , -0.57545 ,  0.087459,  0.28787 , -0.06731 ,\n",
      "        0.30906 , -0.26384 , -0.13231 , -0.20757 ,  0.33395 , -0.33848 ,\n",
      "       -0.31743 , -0.48336 ,  0.1464  , -0.37304 ,  0.34577 ,  0.052041,\n",
      "        0.44946 , -0.46971 ,  0.02628 , -0.54155 , -0.15518 , -0.14107 ,\n",
      "       -0.039722,  0.28277 ,  0.14393 ,  0.23464 , -0.31021 ,  0.086173,\n",
      "        0.20397 ,  0.52624 ,  0.17164 , -0.082378, -0.71787 , -0.41531 ,\n",
      "        0.20335 , -0.12763 ,  0.41367 ,  0.55187 ,  0.57908 , -0.33477 ,\n",
      "       -0.36559 , -0.54857 , -0.062892,  0.26584 ,  0.30205 ,  0.99775 ,\n",
      "       -0.80481 , -3.0243  ,  0.01254 , -0.36942 ,  2.2167  ,  0.72201 ,\n",
      "       -0.24978 ,  0.92136 ,  0.034514,  0.46745 ,  1.1079  , -0.19358 ,\n",
      "       -0.074575,  0.23353 , -0.052062, -0.22044 ,  0.057162, -0.15806 ,\n",
      "       -0.30798 , -0.41625 ,  0.37972 ,  0.15006 , -0.53212 , -0.2055  ,\n",
      "       -1.2526  ,  0.071624,  0.70565 ,  0.49744 , -0.42063 ,  0.26148 ,\n",
      "       -1.538   , -0.30223 , -0.073438, -0.28312 ,  0.37104 , -0.25217 ,\n",
      "        0.016215, -0.017099, -0.38984 ,  0.87424 , -0.72569 , -0.51058 ,\n",
      "       -0.52028 , -0.1459  ,  0.8278  ,  0.27062 ], dtype=float32))]\n",
      "Found 400000 word vecotrs.\n"
     ]
    }
   ],
   "source": [
    "glove_dir = '/home/d869321/Data/glove.6B/'\n",
    "\n",
    "embeddings_index = {}\n",
    "f = open(os.path.join(glove_dir, 'glove.6B.100d.txt'))\n",
    "for line in f:\n",
    "    values = line.split()\n",
    "    word = values[0]  # first entry in each line is the word\n",
    "    coefs = np.asarray(values[1:], dtype='float32')  # ...and every subsequent entry forms 100D embedding\n",
    "    embeddings_index[word] = coefs\n",
    "f.close()\n",
    "\n",
    "n_items = take(1, embeddings_index.items())\n",
    "print('word embedding for \"the\":', n_items)\n",
    "print('Found %s word vecotrs.' % len(embeddings_index))"
   ]
  },
  {
   "cell_type": "markdown",
   "metadata": {},
   "source": [
    "We can use this to build an embedding matrix (size `(max_words, embedding_dim`) to load into an `Embedding` layer."
   ]
  },
  {
   "cell_type": "code",
   "execution_count": 16,
   "metadata": {},
   "outputs": [],
   "source": [
    "embedding_dim = 100\n",
    "\n",
    "embedding_matrix = np.zeros((max_words, embedding_dim))\n",
    "for word, i in word_index.items():\n",
    "    if i < max_words:\n",
    "        embedding_vector = embeddings_index.get(word)\n",
    "        # note that words not found in embeddings_index will be all zeros in embedding matrix\n",
    "        if embedding_vector is not None:\n",
    "            embedding_matrix[i] = embedding_vector"
   ]
  },
  {
   "cell_type": "markdown",
   "metadata": {},
   "source": [
    "We can now define the architecture."
   ]
  },
  {
   "cell_type": "code",
   "execution_count": 17,
   "metadata": {},
   "outputs": [
    {
     "name": "stdout",
     "output_type": "stream",
     "text": [
      "Model: \"sequential_2\"\n",
      "_________________________________________________________________\n",
      "Layer (type)                 Output Shape              Param #   \n",
      "=================================================================\n",
      "embedding_3 (Embedding)      (None, 100, 100)          1000000   \n",
      "_________________________________________________________________\n",
      "flatten_2 (Flatten)          (None, 10000)             0         \n",
      "_________________________________________________________________\n",
      "dense_2 (Dense)              (None, 32)                320032    \n",
      "_________________________________________________________________\n",
      "dense_3 (Dense)              (None, 1)                 33        \n",
      "=================================================================\n",
      "Total params: 1,320,065\n",
      "Trainable params: 1,320,065\n",
      "Non-trainable params: 0\n",
      "_________________________________________________________________\n"
     ]
    }
   ],
   "source": [
    "model = Sequential()\n",
    "model.add(Embedding(max_words, embedding_dim, input_length=maxlen))\n",
    "model.add(Flatten())\n",
    "model.add(Dense(32, activation='relu'))\n",
    "model.add(Dense(1, activation='sigmoid'))\n",
    "model.summary()"
   ]
  },
  {
   "cell_type": "markdown",
   "metadata": {},
   "source": [
    "Once the model architecture is defined, we can load the GloVe matrix into the `Embedding` layer and freeze it."
   ]
  },
  {
   "cell_type": "code",
   "execution_count": 18,
   "metadata": {},
   "outputs": [],
   "source": [
    "model.layers[0].set_weights([embedding_matrix])\n",
    "model.layers[0].trainable = False"
   ]
  },
  {
   "cell_type": "markdown",
   "metadata": {},
   "source": [
    "We can compile and train the model."
   ]
  },
  {
   "cell_type": "code",
   "execution_count": 19,
   "metadata": {},
   "outputs": [
    {
     "name": "stdout",
     "output_type": "stream",
     "text": [
      "Train on 200 samples, validate on 10000 samples\n",
      "Epoch 1/10\n",
      "200/200 [==============================] - 0s 2ms/step - loss: 2.1067 - acc: 0.5000 - val_loss: 0.7431 - val_acc: 0.4979\n",
      "Epoch 2/10\n",
      "200/200 [==============================] - 0s 1ms/step - loss: 0.5861 - acc: 0.6950 - val_loss: 0.6933 - val_acc: 0.5396\n",
      "Epoch 3/10\n",
      "200/200 [==============================] - 0s 1ms/step - loss: 0.6164 - acc: 0.7600 - val_loss: 0.7068 - val_acc: 0.5409\n",
      "Epoch 4/10\n",
      "200/200 [==============================] - 0s 2ms/step - loss: 0.2856 - acc: 0.9400 - val_loss: 0.7106 - val_acc: 0.5510\n",
      "Epoch 5/10\n",
      "200/200 [==============================] - 0s 1ms/step - loss: 0.3122 - acc: 0.8350 - val_loss: 0.9042 - val_acc: 0.5046\n",
      "Epoch 6/10\n",
      "200/200 [==============================] - 0s 1ms/step - loss: 0.1821 - acc: 0.9450 - val_loss: 0.8698 - val_acc: 0.5249\n",
      "Epoch 7/10\n",
      "200/200 [==============================] - 0s 1ms/step - loss: 0.0964 - acc: 0.9900 - val_loss: 0.7203 - val_acc: 0.5693\n",
      "Epoch 8/10\n",
      "200/200 [==============================] - 0s 2ms/step - loss: 0.0516 - acc: 1.0000 - val_loss: 1.6278 - val_acc: 0.5063\n",
      "Epoch 9/10\n",
      "200/200 [==============================] - 0s 1ms/step - loss: 0.3701 - acc: 0.8750 - val_loss: 0.7608 - val_acc: 0.5711\n",
      "Epoch 10/10\n",
      "200/200 [==============================] - 0s 1ms/step - loss: 0.0273 - acc: 1.0000 - val_loss: 0.7623 - val_acc: 0.5689\n"
     ]
    }
   ],
   "source": [
    "model.compile(optimizer='rmsprop', loss='binary_crossentropy', metrics=['acc'])\n",
    "history = model.fit(x_train, y_train, epochs=10, batch_size=32, validation_data=(x_val, y_val))\n",
    "model.save_weights('pre_trained_glove_model.h5')"
   ]
  },
  {
   "cell_type": "markdown",
   "metadata": {},
   "source": [
    "We can evaluate the model performance."
   ]
  },
  {
   "cell_type": "code",
   "execution_count": 20,
   "metadata": {},
   "outputs": [
    {
     "data": {
      "text/plain": [
       "<matplotlib.legend.Legend at 0x7f8eff7f32d0>"
      ]
     },
     "execution_count": 20,
     "metadata": {},
     "output_type": "execute_result"
    },
    {
     "data": {
      "image/png": "[encoded data removed]",
      "text/plain": [
       "<Figure size 432x288 with 1 Axes>"
      ]
     },
     "metadata": {
      "needs_background": "light"
     },
     "output_type": "display_data"
    },
    {
     "data": {
      "image/png": "[encoded data removed]",
      "text/plain": [
       "<Figure size 432x288 with 1 Axes>"
      ]
     },
     "metadata": {
      "needs_background": "light"
     },
     "output_type": "display_data"
    }
   ],
   "source": [
    "acc = history.history['acc']\n",
    "val_acc = history.history['val_acc']\n",
    "loss = history.history['loss']\n",
    "val_loss = history.history['val_loss']\n",
    "\n",
    "epochs = range(1, len(acc) + 1)\n",
    "\n",
    "plt.plot(epochs, acc, 'bo', label='Training acc')\n",
    "plt.plot(epochs, val_acc, 'b', label='Validation acc')\n",
    "plt.title('Training and validation accuracy')\n",
    "plt.legend()\n",
    "\n",
    "plt.figure()\n",
    "plt.plot(epochs, loss, 'bo', label='Training loss')\n",
    "plt.plot(epochs, val_loss, 'b', label='Validation loss')\n",
    "plt.title('Training and validation loss')\n",
    "plt.legend()"
   ]
  },
  {
   "cell_type": "markdown",
   "metadata": {},
   "source": [
    "The model overfits, which is not surprising given our sample of 200. Its accuracy is barely better than random.\n",
    "\n",
    "What would happen if we did not use the pretrained word embedding, but rather attempted to also learn the embedding on the sample of 200?"
   ]
  },
  {
   "cell_type": "code",
   "execution_count": 21,
   "metadata": {},
   "outputs": [
    {
     "name": "stderr",
     "output_type": "stream",
     "text": [
      "/home/d869321/anaconda3/envs/neural/lib/python3.7/site-packages/tensorflow_core/python/framework/indexed_slices.py:424: UserWarning: Converting sparse IndexedSlices to a dense Tensor of unknown shape. This may consume a large amount of memory.\n",
      "  \"Converting sparse IndexedSlices to a dense Tensor of unknown shape. \"\n"
     ]
    },
    {
     "name": "stdout",
     "output_type": "stream",
     "text": [
      "Train on 200 samples, validate on 10000 samples\n",
      "Epoch 1/10\n",
      "200/200 [==============================] - 0s 2ms/step - loss: 0.6945 - acc: 0.5250 - val_loss: 0.6936 - val_acc: 0.5110\n",
      "Epoch 2/10\n",
      "200/200 [==============================] - 0s 1ms/step - loss: 0.5144 - acc: 0.9700 - val_loss: 0.6924 - val_acc: 0.5151\n",
      "Epoch 3/10\n",
      "200/200 [==============================] - 0s 1ms/step - loss: 0.2984 - acc: 0.9800 - val_loss: 0.6990 - val_acc: 0.5170\n",
      "Epoch 4/10\n",
      "200/200 [==============================] - 0s 1ms/step - loss: 0.1262 - acc: 1.0000 - val_loss: 0.7095 - val_acc: 0.5222\n",
      "Epoch 5/10\n",
      "200/200 [==============================] - 0s 1ms/step - loss: 0.0611 - acc: 1.0000 - val_loss: 0.7181 - val_acc: 0.5233\n",
      "Epoch 6/10\n",
      "200/200 [==============================] - 0s 1ms/step - loss: 0.0310 - acc: 1.0000 - val_loss: 0.7084 - val_acc: 0.5294\n",
      "Epoch 7/10\n",
      "200/200 [==============================] - 0s 1ms/step - loss: 0.0168 - acc: 1.0000 - val_loss: 0.7151 - val_acc: 0.5281\n",
      "Epoch 8/10\n",
      "200/200 [==============================] - 0s 1ms/step - loss: 0.0099 - acc: 1.0000 - val_loss: 0.7174 - val_acc: 0.5302\n",
      "Epoch 9/10\n",
      "200/200 [==============================] - 0s 1ms/step - loss: 0.0059 - acc: 1.0000 - val_loss: 0.7258 - val_acc: 0.5269\n",
      "Epoch 10/10\n",
      "200/200 [==============================] - 0s 1ms/step - loss: 0.0036 - acc: 1.0000 - val_loss: 0.7321 - val_acc: 0.5265\n"
     ]
    }
   ],
   "source": [
    "model = Sequential()\n",
    "model.add(Embedding(max_words, embedding_dim, input_length=maxlen))\n",
    "model.add(Flatten())\n",
    "model.add(Dense(32, activation='relu'))\n",
    "model.add(Dense(1, activation='sigmoid'))\n",
    "\n",
    "model.compile(optimizer='rmsprop', loss='binary_crossentropy', metrics=['acc'])\n",
    "history = model.fit(x_train, y_train, epochs=10, batch_size=32, validation_data=(x_val, y_val))"
   ]
  },
  {
   "cell_type": "markdown",
   "metadata": {},
   "source": [
    "We again check the performance:"
   ]
  },
  {
   "cell_type": "code",
   "execution_count": 22,
   "metadata": {},
   "outputs": [
    {
     "data": {
      "text/plain": [
       "<matplotlib.legend.Legend at 0x7f8eff0a8a10>"
      ]
     },
     "execution_count": 22,
     "metadata": {},
     "output_type": "execute_result"
    },
    {
     "data": {
      "image/png": "[encoded data removed]",
      "text/plain": [
       "<Figure size 432x288 with 1 Axes>"
      ]
     },
     "metadata": {
      "needs_background": "light"
     },
     "output_type": "display_data"
    },
    {
     "data": {
      "image/png": "[encoded data removed]",
      "text/plain": [
       "<Figure size 432x288 with 1 Axes>"
      ]
     },
     "metadata": {
      "needs_background": "light"
     },
     "output_type": "display_data"
    }
   ],
   "source": [
    "acc = history.history['acc']\n",
    "val_acc = history.history['val_acc']\n",
    "loss = history.history['loss']\n",
    "val_loss = history.history['val_loss']\n",
    "\n",
    "epochs = range(1, len(acc) + 1)\n",
    "\n",
    "plt.plot(epochs, acc, 'bo', label='Training acc')\n",
    "plt.plot(epochs, val_acc, 'b', label='Validation acc')\n",
    "plt.title('Training and validation accuracy')\n",
    "plt.legend()\n",
    "\n",
    "plt.figure()\n",
    "plt.plot(epochs, loss, 'bo', label='Training loss')\n",
    "plt.plot(epochs, val_loss, 'b', label='Validation loss')\n",
    "plt.title('Training and validation loss')\n",
    "plt.legend()"
   ]
  },
  {
   "cell_type": "markdown",
   "metadata": {},
   "source": [
    "The neural network that doesn't use the pretrained embedding performs marginally worse.\n",
    "\n",
    "We can also evaluate the model performance on test data. First lets tokenize the test data."
   ]
  },
  {
   "cell_type": "code",
   "execution_count": 23,
   "metadata": {},
   "outputs": [],
   "source": [
    "test_dir = os.path.join(imdb_dir, 'test')\n",
    "\n",
    "labels = []\n",
    "texts = []\n",
    "\n",
    "for label_type in ['neg', 'pos']:\n",
    "    dir_name = os.path.join(test_dir, label_type)\n",
    "    for fname in sorted(os.listdir(dir_name)):\n",
    "        if fname[-4:] == '.txt':\n",
    "            f = open(os.path.join(dir_name, fname))\n",
    "            texts.append(f.read())\n",
    "            f.close()\n",
    "            if label_type == 'neg':\n",
    "                labels.append(0)\n",
    "            else:\n",
    "                labels.append(1)\n",
    "                \n",
    "sequences = tokenizer.texts_to_sequences(texts)\n",
    "x_test = pad_sequences(sequences, maxlen=maxlen)\n",
    "y_test = np.asarray(labels)"
   ]
  },
  {
   "cell_type": "markdown",
   "metadata": {},
   "source": [
    "We can then evaluate the pretrained model."
   ]
  },
  {
   "cell_type": "code",
   "execution_count": 24,
   "metadata": {},
   "outputs": [
    {
     "name": "stdout",
     "output_type": "stream",
     "text": [
      "25000/25000 [==============================] - 1s 21us/step\n"
     ]
    },
    {
     "data": {
      "text/plain": [
       "[0.7673048898983001, 0.5695199966430664]"
      ]
     },
     "execution_count": 24,
     "metadata": {},
     "output_type": "execute_result"
    }
   ],
   "source": [
    "model.load_weights('pre_trained_glove_model.h5')\n",
    "model.evaluate(x_test, y_test)"
   ]
  },
  {
   "cell_type": "markdown",
   "metadata": {},
   "source": [
    "Model does badly on just a few data points."
   ]
  },
  {
   "cell_type": "code",
   "execution_count": null,
   "metadata": {},
   "outputs": [],
   "source": []
  }
 ],
 "metadata": {
  "kernelspec": {
   "display_name": "Python 3",
   "language": "python",
   "name": "python3"
  },
  "language_info": {
   "codemirror_mode": {
    "name": "ipython",
    "version": 3
   },
   "file_extension": ".py",
   "mimetype": "text/x-python",
   "name": "python",
   "nbconvert_exporter": "python",
   "pygments_lexer": "ipython3",
   "version": "3.7.5"
  }
 },
 "nbformat": 4,
 "nbformat_minor": 4
}
